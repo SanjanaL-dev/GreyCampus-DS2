{
 "cells": [
  {
   "cell_type": "code",
   "execution_count": 1,
   "metadata": {},
   "outputs": [
    {
     "name": "stdout",
     "output_type": "stream",
     "text": [
      "This is a program to determine if a number is prime or not\n"
     ]
    }
   ],
   "source": [
    "# Some visible prompt for the user\n",
    "print('This is a program to determine if a number is prime or not')\n"
   ]
  },
  {
   "cell_type": "code",
   "execution_count": 2,
   "metadata": {},
   "outputs": [
    {
     "name": "stdout",
     "output_type": "stream",
     "text": [
      "Please provide a number that you would like to get checked. Please make sure it is a positive integer.\n",
      "Enter your number here : 41\n"
     ]
    }
   ],
   "source": [
    "print('Please provide a number that you would like to get checked. Please make sure it is a positive integer.')\n",
    "\n",
    "#get an input from the user\n",
    "check_input = (input('Enter your number here : '))\n",
    "\n",
    "#checks for an empty input, negative input\n",
    "if (check_input == ''):\n",
    "    print('No value has been entered')\n",
    "    # Just a condition to avoid function call(unnecessary computation) later\n",
    "    number = 0 \n",
    "elif int(check_input) <= 0:\n",
    "    # Just a condition to avoid function call(unnecessary computation) later\n",
    "    print('You entered a non-positive number')\n",
    "    number = 0\n",
    "else:\n",
    "    number = int(check_input)\n",
    "    "
   ]
  },
  {
   "cell_type": "code",
   "execution_count": 3,
   "metadata": {},
   "outputs": [
    {
     "name": "stdout",
     "output_type": "stream",
     "text": [
      "41 is a prime number\n"
     ]
    }
   ],
   "source": [
    "# A global flag variable used to define prime status of the number\n",
    "is_prime = False\n",
    "\n",
    "# A default predetermined number 29 is used in the function.\n",
    "def prime_check(number = 29):   \n",
    "    \n",
    "    #has_factor is an infucntion local flag variable to describe if a factor has been found\n",
    "    has_factor = False\n",
    "    \n",
    "    #All prime numbers are greater than 1, so start checking from above it\n",
    "    if number > 1:\n",
    "        \n",
    "    # check for factors, A number is a factor if it perfectly divides the number under consideration\n",
    "    # We loop through 2 to the number to find a factor other than 1 and number itself\n",
    "        for i in range(2, number):\n",
    "            if (number % i) == 0:\n",
    "            # if factor is found, set has_factor to True\n",
    "                has_factor = True\n",
    "            # get out of loop to avoid checking further\n",
    "                break\n",
    "    else:\n",
    "        return False\n",
    "    \n",
    "    if (has_factor == True):\n",
    "        return True\n",
    "    else:\n",
    "        return False\n",
    "\n",
    "# function call only if there was a valid input given initially    \n",
    "if number != 0   :\n",
    "    #if number has a factor => it is not a prime\n",
    "    #code translation : if has_factor == True => is_prime = false and vice-versa\n",
    "    is_prime = not prime_check(number)\n",
    "\n",
    "# checks to display result\n",
    "if is_prime:\n",
    "    print(number, \"is a prime number\")\n",
    "elif number == 0:\n",
    "    print(number, 'is not a prime number')\n",
    "    print('You can run the program again and provide a valid positive integer value to check! :)')\n",
    "else:\n",
    "    print(number, \"is not a prime number\")\n",
    "    "
   ]
  }
 ],
 "metadata": {
  "kernelspec": {
   "display_name": "Python 3",
   "language": "python",
   "name": "python3"
  },
  "language_info": {
   "codemirror_mode": {
    "name": "ipython",
    "version": 3
   },
   "file_extension": ".py",
   "mimetype": "text/x-python",
   "name": "python",
   "nbconvert_exporter": "python",
   "pygments_lexer": "ipython3",
   "version": "3.8.5"
  }
 },
 "nbformat": 4,
 "nbformat_minor": 4
}
