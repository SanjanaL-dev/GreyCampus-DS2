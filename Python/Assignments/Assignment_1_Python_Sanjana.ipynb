{
 "cells": [
  {
   "cell_type": "markdown",
   "metadata": {},
   "source": []
  },
  {
   "cell_type": "markdown",
   "metadata": {},
   "source": [
    "### Q1. Import the Numpy package under the name np"
   ]
  },
  {
   "cell_type": "code",
   "execution_count": 1,
   "metadata": {},
   "outputs": [],
   "source": [
    "import numpy as np"
   ]
  },
  {
   "cell_type": "markdown",
   "metadata": {},
   "source": [
    "### Q2. Create a null vector of size 10"
   ]
  },
  {
   "cell_type": "code",
   "execution_count": 2,
   "metadata": {},
   "outputs": [
    {
     "name": "stdout",
     "output_type": "stream",
     "text": [
      "[0. 0. 0. 0. 0. 0. 0. 0. 0. 0.]\n"
     ]
    }
   ],
   "source": [
    "import numpy as np\n",
    "x = np.zeros(10)\n",
    "print(x)"
   ]
  },
  {
   "cell_type": "markdown",
   "metadata": {},
   "source": [
    "### Q3. Create a null vector of size 10 but the fifth value which is 1"
   ]
  },
  {
   "cell_type": "code",
   "execution_count": 3,
   "metadata": {},
   "outputs": [
    {
     "name": "stdout",
     "output_type": "stream",
     "text": [
      "[0. 0. 0. 0. 1. 0. 0. 0. 0. 0.]\n"
     ]
    }
   ],
   "source": [
    "y = np.zeros(10)\n",
    "y[4] = 1\n",
    "print(y)"
   ]
  },
  {
   "cell_type": "markdown",
   "metadata": {},
   "source": [
    "### Q4. Create a vector with values ranging from 10 to 49"
   ]
  },
  {
   "cell_type": "code",
   "execution_count": 4,
   "metadata": {},
   "outputs": [
    {
     "name": "stdout",
     "output_type": "stream",
     "text": [
      "[10 11 12 13 14 15 16 17 18 19 20 21 22 23 24 25 26 27 28 29 30 31 32 33\n",
      " 34 35 36 37 38 39 40 41 42 43 44 45 46 47 48 49]\n"
     ]
    }
   ],
   "source": [
    "ranged_vector = np.arange(10, 50)\n",
    "print(ranged_vector)"
   ]
  },
  {
   "cell_type": "markdown",
   "metadata": {},
   "source": [
    "### Q5. Reverse a vector (the first element becomes last)"
   ]
  },
  {
   "cell_type": "code",
   "execution_count": 5,
   "metadata": {},
   "outputs": [
    {
     "name": "stdout",
     "output_type": "stream",
     "text": [
      "[2 3 4 5 6 7]\n",
      "[7 6 5 4 3 2]\n"
     ]
    }
   ],
   "source": [
    "original_vector = np.arange(2, 8)\n",
    "print(original_vector)\n",
    "\n",
    "#slicing with reverse direction, step size 1 and assigning to the same vector\n",
    "reversed_vector = original_vector[::-1]\n",
    "print(reversed_vector)"
   ]
  },
  {
   "cell_type": "markdown",
   "metadata": {},
   "source": [
    "### Q6. Create a 3x3 matrix with values ranging from 0 to 8"
   ]
  },
  {
   "cell_type": "code",
   "execution_count": 6,
   "metadata": {},
   "outputs": [
    {
     "name": "stdout",
     "output_type": "stream",
     "text": [
      "[[0 1 2]\n",
      " [3 4 5]\n",
      " [6 7 8]]\n"
     ]
    }
   ],
   "source": [
    "matrix = np.arange(0, 9).reshape(3,3)\n",
    "print(matrix)"
   ]
  },
  {
   "cell_type": "markdown",
   "metadata": {},
   "source": [
    "### Q7. Find indices of non­zero elements from [1,2,0,0,4,0]"
   ]
  },
  {
   "cell_type": "code",
   "execution_count": 7,
   "metadata": {},
   "outputs": [
    {
     "name": "stdout",
     "output_type": "stream",
     "text": [
      "given array: \n",
      "[1 2 0 0 4 0]\n",
      "Indices of elements not equal to zero of the given array:\n",
      "[0 1 4]\n"
     ]
    }
   ],
   "source": [
    "given_array = np.array([1,2,0,0,4,0])\n",
    "print(\"given array: \")\n",
    "print(given_array)\n",
    "print(\"Indices of elements not equal to zero of the given array:\")\n",
    "non_zero_indices = np.where(given_array != 0)[0]\n",
    "print(non_zero_indices)"
   ]
  },
  {
   "cell_type": "markdown",
   "metadata": {},
   "source": [
    "### Q8. Create a 3x3x3 array with random values"
   ]
  },
  {
   "cell_type": "code",
   "execution_count": 8,
   "metadata": {},
   "outputs": [
    {
     "name": "stdout",
     "output_type": "stream",
     "text": [
      "[[[0.58408433 0.10219923 0.95513179]\n",
      "  [0.32787389 0.226085   0.72722771]\n",
      "  [0.62500416 0.58595776 0.86808018]]\n",
      "\n",
      " [[0.76089442 0.36255481 0.61571256]\n",
      "  [0.63420534 0.3520453  0.799209  ]\n",
      "  [0.33256015 0.81862098 0.10508659]]\n",
      "\n",
      " [[0.82990926 0.24379221 0.87671934]\n",
      "  [0.83540056 0.24059761 0.291678  ]\n",
      "  [0.98549258 0.98316592 0.32936614]]]\n"
     ]
    }
   ],
   "source": [
    "random3x3x3_array = np.random.random((3,3,3))\n",
    "print(random3x3x3_array)"
   ]
  },
  {
   "cell_type": "markdown",
   "metadata": {},
   "source": [
    "### Q9. Create a random vector of size 30 and find the mean value"
   ]
  },
  {
   "cell_type": "code",
   "execution_count": 9,
   "metadata": {},
   "outputs": [
    {
     "name": "stdout",
     "output_type": "stream",
     "text": [
      "0.493874166552231\n"
     ]
    }
   ],
   "source": [
    "vector_y = np.random.random(30)\n",
    "mean_y = np.mean(vector_y)\n",
    "print(mean_y)"
   ]
  },
  {
   "cell_type": "markdown",
   "metadata": {},
   "source": [
    "### Q.10 Create a 2d array with 1 on the border and 0 inside"
   ]
  },
  {
   "cell_type": "code",
   "execution_count": 10,
   "metadata": {},
   "outputs": [
    {
     "name": "stdout",
     "output_type": "stream",
     "text": [
      "Original array:\n",
      "[[1. 1. 1. 1. 1.]\n",
      " [1. 1. 1. 1. 1.]\n",
      " [1. 1. 1. 1. 1.]\n",
      " [1. 1. 1. 1. 1.]\n",
      " [1. 1. 1. 1. 1.]]\n",
      "\n",
      " 1 on the border and 0 inside in the array \n",
      "\n",
      "[[1. 1. 1. 1. 1.]\n",
      " [1. 0. 0. 0. 1.]\n",
      " [1. 0. 0. 0. 1.]\n",
      " [1. 0. 0. 0. 1.]\n",
      " [1. 1. 1. 1. 1.]]\n"
     ]
    }
   ],
   "source": [
    "x = np.ones((5,5))\n",
    "print(\"Original array:\")\n",
    "print(x)\n",
    "print(\"\\n 1 on the border and 0 inside in the array \\n\")\n",
    "x[1:-1,1:-1] = 0\n",
    "print(x)"
   ]
  },
  {
   "cell_type": "markdown",
   "metadata": {},
   "source": [
    "### Q.11 Create an 8x8 matrix and fill it with a checkerboard pattern"
   ]
  },
  {
   "cell_type": "code",
   "execution_count": 11,
   "metadata": {},
   "outputs": [
    {
     "name": "stdout",
     "output_type": "stream",
     "text": [
      "Checkerboard pattern using ones and zeroes:\n",
      "Intialised a null checkboard as shown below:\n",
      "[[0 0 0 0 0 0 0 0]\n",
      " [0 0 0 0 0 0 0 0]\n",
      " [0 0 0 0 0 0 0 0]\n",
      " [0 0 0 0 0 0 0 0]\n",
      " [0 0 0 0 0 0 0 0]\n",
      " [0 0 0 0 0 0 0 0]\n",
      " [0 0 0 0 0 0 0 0]\n",
      " [0 0 0 0 0 0 0 0]]\n",
      "\n",
      "Final checkboard\n",
      "[[0 1 0 1 0 1 0 1]\n",
      " [1 0 1 0 1 0 1 0]\n",
      " [0 1 0 1 0 1 0 1]\n",
      " [1 0 1 0 1 0 1 0]\n",
      " [0 1 0 1 0 1 0 1]\n",
      " [1 0 1 0 1 0 1 0]\n",
      " [0 1 0 1 0 1 0 1]\n",
      " [1 0 1 0 1 0 1 0]]\n"
     ]
    }
   ],
   "source": [
    "# checkboard = np.ones((3,3))\n",
    "print(\"Checkerboard pattern using ones and zeroes:\")\n",
    "checkboard = np.zeros((8,8),dtype=int)\n",
    "print('Intialised a null checkboard as shown below:')\n",
    "print(checkboard)\n",
    "#slice adding value 1 with step=2(every 2nd) starting from row index 1 with all columns starting from 0th\n",
    "checkboard[1::2,::2] = 1\n",
    "#slice adding value 1 with step=2(every 2nd) starting from row index 0 with all columns starting from 1st\n",
    "checkboard[0::2,1::2] = 1\n",
    "print('\\nFinal checkboard')\n",
    "print(checkboard)"
   ]
  },
  {
   "cell_type": "markdown",
   "metadata": {},
   "source": [
    "### Q.12 What is the major difference between sets, lists, tuples and dictionaries?\n",
    "\n",
    "##### Answer:\n"
   ]
  },
  {
   "attachments": {
    "data_structures_comparison_python.PNG": {
     "image/png": "[encoded data removed]"
    }
   },
   "cell_type": "markdown",
   "metadata": {},
   "source": [
    "![data_structures_comparison_python.PNG](attachment:data_structures_comparison_python.PNG)"
   ]
  },
  {
   "cell_type": "markdown",
   "metadata": {},
   "source": [
    "### Q13. Print first 10 natural numbers using while loop"
   ]
  },
  {
   "cell_type": "code",
   "execution_count": 12,
   "metadata": {},
   "outputs": [
    {
     "name": "stdout",
     "output_type": "stream",
     "text": [
      "First 10 Natural numbers are as follows : \n",
      "1\n",
      "2\n",
      "3\n",
      "4\n",
      "5\n",
      "6\n",
      "7\n",
      "8\n",
      "9\n",
      "10\n"
     ]
    }
   ],
   "source": [
    "print('First 10 Natural numbers are as follows : ')\n",
    "counter = 1\n",
    "while counter <= 10:\n",
    "    print(counter)\n",
    "    counter += 1"
   ]
  },
  {
   "cell_type": "markdown",
   "metadata": {},
   "source": [
    "### Q14. Print the numbers -10 to -1 using for loop."
   ]
  },
  {
   "cell_type": "code",
   "execution_count": 13,
   "metadata": {},
   "outputs": [
    {
     "name": "stdout",
     "output_type": "stream",
     "text": [
      "-10\n",
      "-9\n",
      "-8\n",
      "-7\n",
      "-6\n",
      "-5\n",
      "-4\n",
      "-3\n",
      "-2\n",
      "-1\n"
     ]
    }
   ],
   "source": [
    "for number in range(-10, 0, 1):\n",
    "    print(number)"
   ]
  },
  {
   "cell_type": "markdown",
   "metadata": {},
   "source": [
    "### Q15. Print the message “Done” after successful execution of any for a loop."
   ]
  },
  {
   "cell_type": "code",
   "execution_count": 14,
   "metadata": {},
   "outputs": [
    {
     "name": "stdout",
     "output_type": "stream",
     "text": [
      "-10\n",
      "-9\n",
      "-8\n",
      "-7\n",
      "-6\n",
      "-5\n",
      "-4\n",
      "-3\n",
      "-2\n",
      "-1\n",
      "Done\n"
     ]
    }
   ],
   "source": [
    "for number in range(-10, 0, 1):\n",
    "    print(number)\n",
    "    \n",
    "print('Done')"
   ]
  },
  {
   "cell_type": "markdown",
   "metadata": {},
   "source": [
    "### Q16. Create a random vector of size 10 and sort it"
   ]
  },
  {
   "cell_type": "code",
   "execution_count": 15,
   "metadata": {},
   "outputs": [
    {
     "name": "stdout",
     "output_type": "stream",
     "text": [
      "Original random vector:\n",
      "[0.47404798 0.56155237 0.2066734  0.84688436 0.79559203 0.2384116\n",
      " 0.16577919 0.97326589 0.80211136 0.945296  ]\n",
      "Sorted random vector:\n",
      "[0.16577919 0.2066734  0.2384116  0.47404798 0.56155237 0.79559203\n",
      " 0.80211136 0.84688436 0.945296   0.97326589]\n"
     ]
    }
   ],
   "source": [
    "z = np.random.random(10)\n",
    "print(\"Original random vector:\")\n",
    "print(z)\n",
    "z.sort()\n",
    "print(\"Sorted random vector:\")\n",
    "print(z)"
   ]
  },
  {
   "cell_type": "markdown",
   "metadata": {},
   "source": [
    "### Q17. Execute any three math functions using NumPy."
   ]
  },
  {
   "cell_type": "code",
   "execution_count": 16,
   "metadata": {
    "scrolled": true
   },
   "outputs": [
    {
     "name": "stdout",
     "output_type": "stream",
     "text": [
      "ceiling function\n",
      "The given array: \n",
      "[-2.7   1.2  -0.23 14.6  10.  ]\n",
      "\n",
      "The modified array: \n",
      "[-2.  2. -0. 15. 10.]\n",
      "\n",
      "floor function\n",
      "The given array: \n",
      "[-2.7   1.2  -0.23 14.6  10.  ]\n",
      "\n",
      "The modified array: \n",
      "[-3.  1. -1. 14. 10.]\n",
      "\n",
      "Rounding function\n",
      "Original array: \n",
      "[-2.7   1.2  -0.23 14.6  10.  ]\n",
      "\n",
      "After rounding:\n",
      "[-3.  1. -0. 15. 10.]\n",
      "[-2.7  1.2 -0.2 14.6 10. ]\n",
      "[-0.  0. -0. 10. 10.]\n"
     ]
    }
   ],
   "source": [
    "#Ceiling function : \n",
    "print('ceiling function')\n",
    "p = np.array([-2.7, 1.2, -0.23, 14.6, 10]) \n",
    "\n",
    "print('The given array: ')\n",
    "print(p)\n",
    " \n",
    "print('\\nThe modified array: ')\n",
    "print(np.ceil(p))\n",
    "\n",
    "#floor function\n",
    "print('\\nfloor function')\n",
    "q = np.array([-2.7, 1.2, -0.23, 14.6, 10]) \n",
    "\n",
    "print('The given array: ')\n",
    "print(q)\n",
    "\n",
    "print('\\nThe modified array: ')\n",
    "print(np.floor(q))\n",
    "\n",
    "\n",
    "#Rounding function : around\n",
    "print('\\nRounding function')\n",
    "r = np.array([-2.7, 1.2, -0.23, 14.6, 10])\n",
    "\n",
    "print('Original array: ')\n",
    "print(r)   \n",
    "\n",
    "print('\\nAfter rounding:')\n",
    "print(np.around(r)) \n",
    "print(np.around(r, decimals = 1)) \n",
    "print(np.around(r, decimals = -1))"
   ]
  }
 ],
 "metadata": {
  "kernelspec": {
   "display_name": "Python 3",
   "language": "python",
   "name": "python3"
  },
  "language_info": {
   "codemirror_mode": {
    "name": "ipython",
    "version": 3
   },
   "file_extension": ".py",
   "mimetype": "text/x-python",
   "name": "python",
   "nbconvert_exporter": "python",
   "pygments_lexer": "ipython3",
   "version": "3.8.5"
  }
 },
 "nbformat": 4,
 "nbformat_minor": 4
}
